{
 "cells": [
  {
   "cell_type": "markdown",
   "metadata": {},
   "source": [
    "2018/10/31"
   ]
  },
  {
   "cell_type": "markdown",
   "metadata": {},
   "source": [
    "# 第9章 GLMのベイズモデル化と事後分布の推定　"
   ]
  },
  {
   "cell_type": "code",
   "execution_count": 1,
   "metadata": {},
   "outputs": [
    {
     "name": "stderr",
     "output_type": "stream",
     "text": [
      "Updating HTML index of packages in '.Library'\n",
      "Making 'packages.html' ... done\n"
     ]
    }
   ],
   "source": [
    "install.packages(\"R2WinBUGS\")"
   ]
  },
  {
   "cell_type": "code",
   "execution_count": 2,
   "metadata": {},
   "outputs": [
    {
     "name": "stderr",
     "output_type": "stream",
     "text": [
      "Loading required package: coda\n",
      "Loading required package: boot\n"
     ]
    }
   ],
   "source": [
    "library(R2WinBUGS)"
   ]
  },
  {
   "cell_type": "code",
   "execution_count": 3,
   "metadata": {},
   "outputs": [
    {
     "name": "stdout",
     "output_type": "stream",
     "text": [
      "# reading \"R2WBwrapper.R\" (written by kubo@ees.hokudai.ac.jp)...\n"
     ]
    }
   ],
   "source": [
    "source(\"./data/R2WBwrapper.R\")"
   ]
  },
  {
   "cell_type": "code",
   "execution_count": 4,
   "metadata": {},
   "outputs": [],
   "source": [
    "load(\"./data/d.RData\")"
   ]
  },
  {
   "cell_type": "code",
   "execution_count": 5,
   "metadata": {},
   "outputs": [],
   "source": [
    "clear.data.param()"
   ]
  },
  {
   "cell_type": "code",
   "execution_count": 6,
   "metadata": {},
   "outputs": [
    {
     "data": {
      "text/html": [
       "<table>\n",
       "<thead><tr><th scope=col>N</th><th scope=col>y</th><th scope=col>x</th><th scope=col>id</th></tr></thead>\n",
       "<tbody>\n",
       "\t<tr><td>8</td><td>0</td><td>2</td><td>1</td></tr>\n",
       "\t<tr><td>8</td><td>1</td><td>2</td><td>2</td></tr>\n",
       "\t<tr><td>8</td><td>2</td><td>2</td><td>3</td></tr>\n",
       "\t<tr><td>8</td><td>4</td><td>2</td><td>4</td></tr>\n",
       "\t<tr><td>8</td><td>1</td><td>2</td><td>5</td></tr>\n",
       "\t<tr><td>8</td><td>0</td><td>2</td><td>6</td></tr>\n",
       "</tbody>\n",
       "</table>\n"
      ],
      "text/latex": [
       "\\begin{tabular}{r|llll}\n",
       " N & y & x & id\\\\\n",
       "\\hline\n",
       "\t 8 & 0 & 2 & 1\\\\\n",
       "\t 8 & 1 & 2 & 2\\\\\n",
       "\t 8 & 2 & 2 & 3\\\\\n",
       "\t 8 & 4 & 2 & 4\\\\\n",
       "\t 8 & 1 & 2 & 5\\\\\n",
       "\t 8 & 0 & 2 & 6\\\\\n",
       "\\end{tabular}\n"
      ],
      "text/markdown": [
       "\n",
       "N | y | x | id | \n",
       "|---|---|---|---|---|---|\n",
       "| 8 | 0 | 2 | 1 | \n",
       "| 8 | 1 | 2 | 2 | \n",
       "| 8 | 2 | 2 | 3 | \n",
       "| 8 | 4 | 2 | 4 | \n",
       "| 8 | 1 | 2 | 5 | \n",
       "| 8 | 0 | 2 | 6 | \n",
       "\n",
       "\n"
      ],
      "text/plain": [
       "  N y x id\n",
       "1 8 0 2 1 \n",
       "2 8 1 2 2 \n",
       "3 8 2 2 3 \n",
       "4 8 4 2 4 \n",
       "5 8 1 2 5 \n",
       "6 8 0 2 6 "
      ]
     },
     "metadata": {},
     "output_type": "display_data"
    }
   ],
   "source": [
    "d <- read.csv(\"./data/data.csv\")\n",
    "head(d)"
   ]
  },
  {
   "cell_type": "code",
   "execution_count": 7,
   "metadata": {},
   "outputs": [],
   "source": [
    "#データの設定\n",
    "set.data(\"N\",nrow(d))\n",
    "set.data(\"Y\",d$y)\n",
    "set.data(\"X\",d$x)\n",
    "set.data(\"Mean.X\",mean(d$x))"
   ]
  },
  {
   "cell_type": "code",
   "execution_count": 8,
   "metadata": {},
   "outputs": [],
   "source": [
    "#パラメータの初期値設定\n",
    "set.param(\"beta1\",0)\n",
    "set.param(\"beta2\",0)"
   ]
  },
  {
   "cell_type": "code",
   "execution_count": 9,
   "metadata": {},
   "outputs": [
    {
     "name": "stderr",
     "output_type": "stream",
     "text": [
      "Warning message in system(paste(\"which \", x, sep = \"\"), intern = TRUE):\n",
      "“ 命令 'which wine' の実行は状態 1 を持ちました ”Warning message in system(paste(\"locate \", x, \" | grep bin/\", x, \"$\", sep = \"\"), :\n",
      "“ 命令 'locate wine | grep bin/wine$' の実行は状態 1 を持ちました ”"
     ]
    },
    {
     "ename": "ERROR",
     "evalue": "Error in findUnixBinary(x = \"wine\"): couldn't find wine binary file\n",
     "output_type": "error",
     "traceback": [
      "Error in findUnixBinary(x = \"wine\"): couldn't find wine binary file\nTraceback:\n",
      "1. call.bugs(file = \"./data/model.bug.txt\", n.iter = 1600, n.burnin = 100, \n .     n.thin = 3)",
      "2. bugs(v.datanames, inits, parameters.to.save, model.file, n.chains = n.chains, \n .     n.iter = n.iter, n.burnin = n.burnin, n.thin = n.thin, bugs.directory = \"c:/Program Files/WinBUGS14/\", \n .     working.directory = NULL, clearWD = TRUE, debug = debug, \n .     bugs.seed = bugs.seed, ...)",
      "3. findUnixBinary(x = \"wine\")",
      "4. stop(paste(\"couldn't find\", x, \"binary file\"))"
     ]
    }
   ],
   "source": [
    "#WinBUGSの呼び出し、サンプリングの結果をpost.bugsに格納\n",
    "post.bugs <- call.bugs(\n",
    "file=\"./data/model.bug.txt\",\n",
    "n.iter=1600,\n",
    "n.burnin=100,\n",
    "n.thin=3)"
   ]
  },
  {
   "cell_type": "code",
   "execution_count": null,
   "metadata": {},
   "outputs": [],
   "source": []
  },
  {
   "cell_type": "code",
   "execution_count": null,
   "metadata": {},
   "outputs": [],
   "source": []
  }
 ],
 "metadata": {
  "kernelspec": {
   "display_name": "R",
   "language": "R",
   "name": "ir"
  },
  "language_info": {
   "codemirror_mode": "r",
   "file_extension": ".r",
   "mimetype": "text/x-r-source",
   "name": "R",
   "pygments_lexer": "r",
   "version": "3.5.0"
  },
  "toc": {
   "base_numbering": 1,
   "nav_menu": {},
   "number_sections": true,
   "sideBar": true,
   "skip_h1_title": true,
   "title_cell": "Table of Contents",
   "title_sidebar": "Contents",
   "toc_cell": false,
   "toc_position": {},
   "toc_section_display": true,
   "toc_window_display": false
  }
 },
 "nbformat": 4,
 "nbformat_minor": 2
}
