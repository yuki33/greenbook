{
 "cells": [
  {
   "cell_type": "markdown",
   "metadata": {},
   "source": [
    "2018/10/27"
   ]
  },
  {
   "cell_type": "markdown",
   "metadata": {},
   "source": [
    "# GLMのモデル選択（AICとモデルの予測の良さ）"
   ]
  },
  {
   "cell_type": "markdown",
   "metadata": {},
   "source": [
    "## 統計モデルの当てはまりの悪さ：逸脱度"
   ]
  },
  {
   "cell_type": "markdown",
   "metadata": {},
   "source": [
    "<strong>逸脱度</strong><br>\n",
    "当てはまりの良さである最大対数尤度関数を変形した統計量。最大尤度関数logLに-2をかけているだけ。<br>\n",
    "<strong>residual deviance</strong><br>\n",
    "D(逸脱度)ー最小のD(ポアソン分布モデルで可能な最小逸脱度：1データの数のパラメータを使って当てはめをする統計モデル)<br>\n",
    "これを最小化したい<br>\n",
    "<strong>null model</strong><br>\n",
    "最大のD(モデルの中で一番パラメータの数が少ないものの逸脱度）ー最小のD<br>\n",
    "\n",
    "つまり逸脱度はパラメータを増やせば低くなるということになってしまう。過学習。"
   ]
  },
  {
   "cell_type": "markdown",
   "metadata": {},
   "source": [
    "## モデル選択基準AIC(Akaike's information criterion)\n",
    "統計モデルの当てはまりの良さよりも予測の良さを重視するモデル<br>\n",
    "AICが一番小さいモデルがいいモデル<br>\n",
    "\n",
    "AIC = -2{(最大対数尤度)ー(最尤推定したパラメータ数)}<br>\n",
    "         = -2(logL - k)<br>\n",
    "         = 逸脱度＋２k<br>\n",
    "         \n",
    "背景として最大尤度関数と平均対数尤度関数の差を小さくしたい。だからその差をバイアスとすると、最大対数尤度関数からバイアスを引いた値は平均対数尤度になる。その平均対数尤度にマイナスをかけるので予測の悪さを表すのでこの値を小さくする必要がある。パラメータ数が増えるとバイアスも同じだけ増える。\n"
   ]
  },
  {
   "cell_type": "code",
   "execution_count": null,
   "metadata": {},
   "outputs": [],
   "source": []
  }
 ],
 "metadata": {
  "kernelspec": {
   "display_name": "R",
   "language": "R",
   "name": "ir"
  },
  "language_info": {
   "codemirror_mode": "r",
   "file_extension": ".r",
   "mimetype": "text/x-r-source",
   "name": "R",
   "pygments_lexer": "r",
   "version": "3.4.3"
  },
  "toc": {
   "base_numbering": 1,
   "nav_menu": {},
   "number_sections": true,
   "sideBar": true,
   "skip_h1_title": true,
   "title_cell": "Table of Contents",
   "title_sidebar": "Contents",
   "toc_cell": false,
   "toc_position": {},
   "toc_section_display": true,
   "toc_window_display": false
  }
 },
 "nbformat": 4,
 "nbformat_minor": 2
}
