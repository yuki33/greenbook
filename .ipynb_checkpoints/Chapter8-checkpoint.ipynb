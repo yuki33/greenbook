{
 "cells": [
  {
   "cell_type": "markdown",
   "metadata": {},
   "source": [
    "2018/10/28"
   ]
  },
  {
   "cell_type": "markdown",
   "metadata": {},
   "source": [
    "# 第８章 マルコフ連鎖モンテカルロ法とベイズ統計モデル"
   ]
  },
  {
   "cell_type": "markdown",
   "metadata": {},
   "source": [
    "GLMMでも個体差を考慮していたが、もしK個の個体差を考慮する場合にはK回の多重積分をする必要がある。つまり、このKが大きいほど数値的な最尤推定に要する時間が長くなったり、最尤推定値の探索そのものが困難になる。<br>このような複雑な統計モデルの当てはめで威力を発揮するのが<strong>マルコフ連鎖モンテカルロ法</strong><br>"
   ]
  },
  {
   "cell_type": "markdown",
   "metadata": {},
   "source": [
    "## メトロポリス法（MCMCアルゴリズムの一つ）ーあまり詳しくない"
   ]
  },
  {
   "cell_type": "markdown",
   "metadata": {},
   "source": [
    "(1) パラメータqの初期値を選ぶ<br>\n",
    "(2)qを減らすか増やすかをランダムに決める<br>\n",
    "(3)新しいqにおいて尤度が大きくなるならqを新しいのに変更<br>\n",
    "(4)新しいqにおいて尤度が小さくなる場合も確率rでqの値を新しいqに変更=対数尤度比が小さいほど移動しやすい<br>\n",
    "r= 新しいqの尤度/尤度"
   ]
  },
  {
   "cell_type": "markdown",
   "metadata": {},
   "source": [
    "<strong>マルコフ連鎖</strong><br>\n",
    "一つのステップの中で前の前の状態qに基づいて新しいqを導き出すこと<br>\n",
    "<strong>モンテカルロ法</strong><br>\n",
    "乱数を利用したアルゴリズム<br>\n",
    "\n",
    "メトロポリス法などのMCMCアルゴリズムの目的は何か特定の値の探索ではなく、ステップ数とともに変化するパラメーターの値の生成<br>\n",
    "→定常分布を取得<br>\n",
    "\n",
    "これによって尤度に比例するqの確率分布を取得"
   ]
  },
  {
   "cell_type": "markdown",
   "metadata": {},
   "source": [
    "## ベイズ統計の導入"
   ]
  },
  {
   "cell_type": "markdown",
   "metadata": {},
   "source": [
    "事後分布　＝　尤度＊事前分布/データが得られる確率　＝　MCMCサンプリングによる定常分布"
   ]
  },
  {
   "cell_type": "code",
   "execution_count": null,
   "metadata": {},
   "outputs": [],
   "source": []
  }
 ],
 "metadata": {
  "kernelspec": {
   "display_name": "R",
   "language": "R",
   "name": "ir"
  },
  "language_info": {
   "codemirror_mode": "r",
   "file_extension": ".r",
   "mimetype": "text/x-r-source",
   "name": "R",
   "pygments_lexer": "r",
   "version": "3.4.3"
  },
  "toc": {
   "base_numbering": 1,
   "nav_menu": {},
   "number_sections": true,
   "sideBar": true,
   "skip_h1_title": true,
   "title_cell": "Table of Contents",
   "title_sidebar": "Contents",
   "toc_cell": false,
   "toc_position": {},
   "toc_section_display": true,
   "toc_window_display": false
  }
 },
 "nbformat": 4,
 "nbformat_minor": 2
}
