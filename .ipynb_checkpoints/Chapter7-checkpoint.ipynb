{
 "cells": [
  {
   "cell_type": "markdown",
   "metadata": {},
   "source": [
    "2018/10/28"
   ]
  },
  {
   "cell_type": "markdown",
   "metadata": {},
   "source": [
    "# 第７章  一般化線形混合モデル(GLMM)"
   ]
  },
  {
   "cell_type": "markdown",
   "metadata": {},
   "source": [
    "説明変数以外の個体差についても考えるモデル　＝　<strong>一般化線形混合モデル</strong>\n",
    "<br>複数の確率分布を部品とする統計モデル"
   ]
  },
  {
   "cell_type": "markdown",
   "metadata": {},
   "source": [
    "単純な二項分布モデルからのずれ(過分散）の理由として観測されてない個体差があげられる。"
   ]
  },
  {
   "cell_type": "markdown",
   "metadata": {},
   "source": [
    "## 一般線形混合モデル"
   ]
  },
  {
   "cell_type": "markdown",
   "metadata": {},
   "source": [
    " ### 個体差を表すパラメータの追加"
   ]
  },
  {
   "cell_type": "markdown",
   "metadata": {},
   "source": [
    "logit(q) = b1+b2*x+r(ランダム効果：個体差を表すパラメータ）<br>\n",
    "そしてこのrが確率分布で表すことができて、しかもデータに基づいてその確率分布を推定できることを仮定している。<br>\n",
    "\n",
    "<strong>ランダム効果</strong><br>\n",
    "平均は変化させないけど、全体のばらつきを変える<br>\n",
    "<strong>固定効果</strong><br>\n",
    "全体の平均を変える<br>\n",
    "\n",
    "尤度を考えるときに二項分布と正規分布（r）をかけて、rで積分して、二つのモデルを混ぜている。"
   ]
  },
  {
   "cell_type": "code",
   "execution_count": 32,
   "metadata": {},
   "outputs": [],
   "source": [
    "d <- read.csv(\"./data/data.csv\")"
   ]
  },
  {
   "cell_type": "code",
   "execution_count": 33,
   "metadata": {},
   "outputs": [
    {
     "data": {
      "text/plain": [
       "\n",
       "Call:  glmmML(formula = cbind(y, N - y) ~ x, family = binomial, data = d,      cluster = id) \n",
       "\n",
       "\n",
       "              coef se(coef)      z Pr(>|z|)\n",
       "(Intercept) -4.190   0.8777 -4.774 1.81e-06\n",
       "x            1.005   0.2075  4.843 1.28e-06\n",
       "\n",
       "Scale parameter in mixing distribution:  2.408 gaussian \n",
       "Std. Error:                              0.2202 \n",
       "\n",
       "        LR p-value for H_0: sigma = 0:  2.136e-55 \n",
       "\n",
       "Residual deviance: 269.4 on 97 degrees of freedom \tAIC: 275.4 "
      ]
     },
     "metadata": {},
     "output_type": "display_data"
    }
   ],
   "source": [
    "#install.packages(\"glmmML\", dependencies = TRUE)\n",
    "library(glmmML)\n",
    "glmmML(cbind(y,N-y)~x,data=d,family=binomial,cluster=id)"
   ]
  },
  {
   "cell_type": "code",
   "execution_count": null,
   "metadata": {},
   "outputs": [],
   "source": []
  }
 ],
 "metadata": {
  "kernelspec": {
   "display_name": "R",
   "language": "R",
   "name": "ir"
  },
  "language_info": {
   "codemirror_mode": "r",
   "file_extension": ".r",
   "mimetype": "text/x-r-source",
   "name": "R",
   "pygments_lexer": "r",
   "version": "3.4.3"
  },
  "toc": {
   "base_numbering": 1,
   "nav_menu": {},
   "number_sections": true,
   "sideBar": true,
   "skip_h1_title": true,
   "title_cell": "Table of Contents",
   "title_sidebar": "Contents",
   "toc_cell": false,
   "toc_position": {},
   "toc_section_display": true,
   "toc_window_display": false
  }
 },
 "nbformat": 4,
 "nbformat_minor": 2
}
